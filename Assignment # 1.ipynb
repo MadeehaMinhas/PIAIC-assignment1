{
 "cells": [
  {
   "cell_type": "markdown",
   "metadata": {},
   "source": [
    "# PIAIC Batch 3 (9 to 12)\n",
    "## Python assignment # 1 (String Built in Functions)\n",
    "### Name: Madeeha Minhas\n",
    "### Roll #: PIAIC 75991"
   ]
  },
  {
   "cell_type": "code",
   "execution_count": 1,
   "metadata": {},
   "outputs": [
    {
     "data": {
      "text/plain": [
       "['__add__',\n",
       " '__class__',\n",
       " '__contains__',\n",
       " '__delattr__',\n",
       " '__dir__',\n",
       " '__doc__',\n",
       " '__eq__',\n",
       " '__format__',\n",
       " '__ge__',\n",
       " '__getattribute__',\n",
       " '__getitem__',\n",
       " '__getnewargs__',\n",
       " '__gt__',\n",
       " '__hash__',\n",
       " '__init__',\n",
       " '__init_subclass__',\n",
       " '__iter__',\n",
       " '__le__',\n",
       " '__len__',\n",
       " '__lt__',\n",
       " '__mod__',\n",
       " '__mul__',\n",
       " '__ne__',\n",
       " '__new__',\n",
       " '__reduce__',\n",
       " '__reduce_ex__',\n",
       " '__repr__',\n",
       " '__rmod__',\n",
       " '__rmul__',\n",
       " '__setattr__',\n",
       " '__sizeof__',\n",
       " '__str__',\n",
       " '__subclasshook__',\n",
       " 'capitalize',\n",
       " 'casefold',\n",
       " 'center',\n",
       " 'count',\n",
       " 'encode',\n",
       " 'endswith',\n",
       " 'expandtabs',\n",
       " 'find',\n",
       " 'format',\n",
       " 'format_map',\n",
       " 'index',\n",
       " 'isalnum',\n",
       " 'isalpha',\n",
       " 'isascii',\n",
       " 'isdecimal',\n",
       " 'isdigit',\n",
       " 'isidentifier',\n",
       " 'islower',\n",
       " 'isnumeric',\n",
       " 'isprintable',\n",
       " 'isspace',\n",
       " 'istitle',\n",
       " 'isupper',\n",
       " 'join',\n",
       " 'ljust',\n",
       " 'lower',\n",
       " 'lstrip',\n",
       " 'maketrans',\n",
       " 'partition',\n",
       " 'replace',\n",
       " 'rfind',\n",
       " 'rindex',\n",
       " 'rjust',\n",
       " 'rpartition',\n",
       " 'rsplit',\n",
       " 'rstrip',\n",
       " 'split',\n",
       " 'splitlines',\n",
       " 'startswith',\n",
       " 'strip',\n",
       " 'swapcase',\n",
       " 'title',\n",
       " 'translate',\n",
       " 'upper',\n",
       " 'zfill']"
      ]
     },
     "execution_count": 1,
     "metadata": {},
     "output_type": "execute_result"
    }
   ],
   "source": [
    "str=\"This is my first python assignment\"\n",
    "dir(str)"
   ]
  },
  {
   "cell_type": "code",
   "execution_count": 18,
   "metadata": {},
   "outputs": [
    {
     "name": "stdout",
     "output_type": "stream",
     "text": [
      "This is my first python assignment in PIAIC\n"
     ]
    }
   ],
   "source": [
    "print(str.__add__(\" in PIAIC\"))"
   ]
  },
  {
   "cell_type": "code",
   "execution_count": 25,
   "metadata": {},
   "outputs": [
    {
     "name": "stdout",
     "output_type": "stream",
     "text": [
      "String class=  <class 'str'>\n"
     ]
    }
   ],
   "source": [
    "print(\"String class= \",str.__class__)"
   ]
  },
  {
   "cell_type": "code",
   "execution_count": 20,
   "metadata": {},
   "outputs": [
    {
     "name": "stdout",
     "output_type": "stream",
     "text": [
      "String contains 'd' = False\n"
     ]
    }
   ],
   "source": [
    "print(\"String contains \\'d\\' =\",str.__contains__('d'))"
   ]
  },
  {
   "cell_type": "code",
   "execution_count": 76,
   "metadata": {},
   "outputs": [
    {
     "name": "stdout",
     "output_type": "stream",
     "text": [
      "Before detattr name1= Ali\n",
      "After detattr name= None\n"
     ]
    }
   ],
   "source": [
    "class Student:\n",
    "    name=\"Ali\"\n",
    "    country=\"Pakistan\"\n",
    "    \n",
    "s=Student()\n",
    "print(\"Before detattr name1=\",s.name)       \n",
    "print(\"After detattr name=\",delattr(Student,'name'))    # deletes name attribute of Student class\n"
   ]
  },
  {
   "cell_type": "code",
   "execution_count": 79,
   "metadata": {},
   "outputs": [
    {
     "name": "stdout",
     "output_type": "stream",
     "text": [
      "str(object='') -> str\n",
      "str(bytes_or_buffer[, encoding[, errors]]) -> str\n",
      "\n",
      "Create a new string object from the given object. If encoding or\n",
      "errors is specified, then the object must expose a data buffer\n",
      "that will be decoded using the given encoding and error handler.\n",
      "Otherwise, returns the result of object.__str__() (if defined)\n",
      "or repr(object).\n",
      "encoding defaults to sys.getdefaultencoding().\n",
      "errors defaults to 'strict'.\n"
     ]
    }
   ],
   "source": [
    "print(str.__doc__)"
   ]
  },
  {
   "cell_type": "code",
   "execution_count": 83,
   "metadata": {},
   "outputs": [
    {
     "name": "stdout",
     "output_type": "stream",
     "text": [
      "False\n"
     ]
    }
   ],
   "source": [
    "print(str.__eq__(\"python assignment\"))                # Checks equality"
   ]
  },
  {
   "cell_type": "code",
   "execution_count": 229,
   "metadata": {},
   "outputs": [
    {
     "name": "stdout",
     "output_type": "stream",
     "text": [
      "Hi Everyone, This is my first python assignment\n"
     ]
    }
   ],
   "source": [
    "print (format(\"Hi Everyone, %s\"%(str)))"
   ]
  },
  {
   "cell_type": "code",
   "execution_count": 101,
   "metadata": {},
   "outputs": [
    {
     "name": "stdout",
     "output_type": "stream",
     "text": [
      "False\n"
     ]
    }
   ],
   "source": [
    "print(len(str).__ge__(35))"
   ]
  },
  {
   "cell_type": "code",
   "execution_count": 174,
   "metadata": {},
   "outputs": [
    {
     "name": "stdout",
     "output_type": "stream",
     "text": [
      "Norway\n"
     ]
    }
   ],
   "source": [
    "class Student:\n",
    "    name=\"Ali\"\n",
    "    country=\"Norway\"\n",
    "s=Student()\n",
    "\n",
    "print(Student.__getattribute__(s,'country'))\n"
   ]
  },
  {
   "cell_type": "code",
   "execution_count": 123,
   "metadata": {},
   "outputs": [
    {
     "name": "stdout",
     "output_type": "stream",
     "text": [
      "Asma\n"
     ]
    }
   ],
   "source": [
    "names=[\"Ali\",\"Sadia\",\"Asma\",\"Urooj\",\"Sidra\"]\n",
    "print(names.__getitem__(2))"
   ]
  },
  {
   "cell_type": "code",
   "execution_count": 152,
   "metadata": {},
   "outputs": [
    {
     "ename": "AttributeError",
     "evalue": "type object 'Student' has no attribute '__getnewargs__'",
     "output_type": "error",
     "traceback": [
      "\u001b[1;31m---------------------------------------------------------------------------\u001b[0m",
      "\u001b[1;31mAttributeError\u001b[0m                            Traceback (most recent call last)",
      "\u001b[1;32m<ipython-input-152-bedaefbb4607>\u001b[0m in \u001b[0;36m<module>\u001b[1;34m\u001b[0m\n\u001b[0;32m      1\u001b[0m \u001b[0ms2\u001b[0m\u001b[1;33m=\u001b[0m\u001b[0mStudent\u001b[0m\u001b[1;33m(\u001b[0m\u001b[1;33m)\u001b[0m\u001b[1;33m\u001b[0m\u001b[1;33m\u001b[0m\u001b[0m\n\u001b[0;32m      2\u001b[0m \u001b[0mname2\u001b[0m\u001b[1;33m=\u001b[0m\u001b[1;34m\"Ayesha\"\u001b[0m\u001b[1;33m\u001b[0m\u001b[1;33m\u001b[0m\u001b[0m\n\u001b[1;32m----> 3\u001b[1;33m \u001b[0mprint\u001b[0m\u001b[1;33m(\u001b[0m\u001b[0mStudent\u001b[0m\u001b[1;33m.\u001b[0m\u001b[0m__getnewargs__\u001b[0m\u001b[1;33m(\u001b[0m\u001b[0ms2\u001b[0m\u001b[1;33m,\u001b[0m\u001b[0mname2\u001b[0m\u001b[1;33m)\u001b[0m\u001b[1;33m)\u001b[0m\u001b[1;33m\u001b[0m\u001b[1;33m\u001b[0m\u001b[0m\n\u001b[0m",
      "\u001b[1;31mAttributeError\u001b[0m: type object 'Student' has no attribute '__getnewargs__'"
     ]
    }
   ],
   "source": [
    "s2=Student()\n",
    "name2=\"Ayesha\"\n",
    "print(Student.__getnewargs__(s2,name2))"
   ]
  },
  {
   "cell_type": "code",
   "execution_count": 154,
   "metadata": {},
   "outputs": [
    {
     "name": "stdout",
     "output_type": "stream",
     "text": [
      "True\n"
     ]
    }
   ],
   "source": [
    "print(len(str).__gt__(30))"
   ]
  },
  {
   "cell_type": "code",
   "execution_count": 163,
   "metadata": {},
   "outputs": [
    {
     "name": "stdout",
     "output_type": "stream",
     "text": [
      "-1744587710754130577\n"
     ]
    }
   ],
   "source": [
    "\n",
    "print(hash(str))    #returns hash value"
   ]
  },
  {
   "cell_type": "code",
   "execution_count": 216,
   "metadata": {},
   "outputs": [
    {
     "name": "stdout",
     "output_type": "stream",
     "text": [
      "A Person object is initialized\n"
     ]
    }
   ],
   "source": [
    "class Person:\n",
    "    \n",
    "    def __init__(self):\n",
    "        print(\"A Person object is initialized\")\n",
    "s3=Person()     # init is called whenver an object is created.Initializes an object. Works like a constructor"
   ]
  },
  {
   "cell_type": "code",
   "execution_count": 198,
   "metadata": {},
   "outputs": [
    {
     "name": "stdout",
     "output_type": "stream",
     "text": [
      "A subclass of Person is created\n",
      "A Student object is created\n"
     ]
    }
   ],
   "source": [
    "class Person:\n",
    "    def __init__(self):\n",
    "        print(\"A Person class object is created\")\n",
    "    def __init_subclass__(cls, **kwargs):\n",
    "        super().__init_subclass__()                     #initializes all subclasses of Person class\n",
    "        print(\"A subclass of Person is created\")     \n",
    "class Student(Person):\n",
    "    def __init__(self):\n",
    "        print(\"A Student object is created\")\n",
    "        \n",
    "st=Student()\n"
   ]
  },
  {
   "cell_type": "code",
   "execution_count": 213,
   "metadata": {},
   "outputs": [
    {
     "name": "stdout",
     "output_type": "stream",
     "text": [
      "Sadia\n"
     ]
    }
   ],
   "source": [
    "names=[\"Ali\",\"Sadia\",\"Asma\",\"Urooj\",\"Sidra\"]\n",
    "names1=names.__iter__()      # returns an iterable object\n",
    "next(names1)\n",
    "print(next(names1))"
   ]
  },
  {
   "cell_type": "code",
   "execution_count": 211,
   "metadata": {},
   "outputs": [
    {
     "name": "stdout",
     "output_type": "stream",
     "text": [
      "True\n",
      "Length = 34\n",
      "2\n",
      "136\n",
      "True\n"
     ]
    }
   ],
   "source": [
    "print(len(str).__le__(35))    # checks if first value is less than or equal to second\n",
    "print(\"Length =\",len(str))               # returns length of given string \n",
    "print(len(str).__mod__(4))    # returns modulus\n",
    "print(len(str).__mul__(4))    # multiply a number by a factor\n",
    "print(len(str).__ne__(35))    # returns true if the two given arguments are not equal"
   ]
  },
  {
   "cell_type": "code",
   "execution_count": 215,
   "metadata": {},
   "outputs": [
    {
     "name": "stdout",
     "output_type": "stream",
     "text": [
      "A Person object is created\n"
     ]
    }
   ],
   "source": [
    "class Person:\n",
    "    \n",
    "    def __new__(self):\n",
    "        print(\"A Person object is created\")\n",
    "s3=Person()     # used to create an object"
   ]
  },
  {
   "cell_type": "code",
   "execution_count": 239,
   "metadata": {},
   "outputs": [
    {
     "name": "stdout",
     "output_type": "stream",
     "text": [
      "The String representation = 23\n"
     ]
    }
   ],
   "source": [
    "s1=2\n",
    "s2=3\n",
    "print (\"The String representation =\",repr(s1)+repr(s2))   # Converts into string. Same as str"
   ]
  },
  {
   "cell_type": "code",
   "execution_count": 247,
   "metadata": {},
   "outputs": [
    {
     "name": "stdout",
     "output_type": "stream",
     "text": [
      "Ayesha\n"
     ]
    }
   ],
   "source": [
    "class Student:\n",
    "    name=\"Ali\"\n",
    "    country=\"Pakistan\"\n",
    "stud=Student()\n",
    "Student.__setattr__(stud,'name','Ayesha')   #sets the attribute of an object\n",
    "print(stud.name)"
   ]
  },
  {
   "cell_type": "code",
   "execution_count": 274,
   "metadata": {},
   "outputs": [
    {
     "name": "stdout",
     "output_type": "stream",
     "text": [
      "Length= 63\n",
      "Python is easy3\n",
      "Python is easy\n",
      "python is easy\n",
      "2\n",
      "b'Python is easy'\n",
      "False\n"
     ]
    }
   ],
   "source": [
    "str2=\"Python is easy\"\n",
    "x=3\n",
    "print(\"Length=\",str2.__sizeof__())   #returns size of a string or list in bytes\n",
    "print(str2+x.__str__())   # converts every datatype in string\n",
    "print(str2.capitalize())    # converts first character of a string in upper case\n",
    "print(str2.casefold())     # convert the string in lower case\n",
    "print(str2.count('s'))     #returns occurance of a character or string\n",
    "print(str2.encode())     #returns encoded version of the given string\n",
    "print(str2.endswith('n'))  # returns True if a string ends with the given suffix \n",
    "\n"
   ]
  },
  {
   "cell_type": "code",
   "execution_count": 277,
   "metadata": {},
   "outputs": [
    {
     "name": "stdout",
     "output_type": "stream",
     "text": [
      "Py    thon is easy\n"
     ]
    }
   ],
   "source": [
    "str2=\"Py\\tthon is easy\"\n",
    "print(str2.expandtabs(6))    # add extra spaces to string"
   ]
  },
  {
   "cell_type": "code",
   "execution_count": 287,
   "metadata": {},
   "outputs": [
    {
     "name": "stdout",
     "output_type": "stream",
     "text": [
      "4\n",
      "Use Python because Python is easy\n",
      "1\n"
     ]
    }
   ],
   "source": [
    "str2=\"Python is easy\"\n",
    "print(str2.find('on'))    # find specific character or substring \n",
    "print (format(\"Use Python because %s\"%(str2)))\n",
    "names={\"1\":\"Ali\",\"2\":\"Sadia\",\"3\":\"Asma\",\"4\":\"Urooj\",\"5\":\"Sidra\"}\n",
    "print('1'.format_map(names))   # return an dictionary key's value.\n"
   ]
  },
  {
   "cell_type": "code",
   "execution_count": 302,
   "metadata": {},
   "outputs": [
    {
     "name": "stdout",
     "output_type": "stream",
     "text": [
      "1\n",
      "False\n",
      "False\n",
      "True\n",
      "False\n",
      "False\n",
      "False\n",
      "False\n"
     ]
    }
   ],
   "source": [
    "names=[\"Ali\",\"Sadia\",\"Asma\",\"Urooj\",\"Sidra\"]\n",
    "print(names.index(\"Sadia\"))   #returns index of a list\n",
    "str2=\"Python is easy\"\n",
    "print(str2.isalnum())   #checks if a string is alphanumeric e.g only alphabets and numbers\n",
    "print(str2.isalpha())   # checks if a strings have all alphabets\n",
    "print(str2.isascii())   # checks if string can be converted into ascii code\n",
    "print(str2.isdecimal())   #checks if string contains decimal digits\n",
    "print(str2.isdigit())      #checks if string contains digital values\n",
    "print(str2.isidentifier())  #checks if string is an valid identifier i.e. only contains alphanumeric letters (a-z) and (0-9), or underscores (_).\n",
    "print(str2.islower())    #checks if string is in lower case"
   ]
  },
  {
   "cell_type": "code",
   "execution_count": 311,
   "metadata": {},
   "outputs": [
    {
     "name": "stdout",
     "output_type": "stream",
     "text": [
      "False\n",
      "True\n",
      "False\n",
      "False\n",
      "False\n"
     ]
    }
   ],
   "source": [
    "str2=\"Python is easy\"\n",
    "print(str2.isnumeric()) #checks if string contains only numbers\n",
    "print(str2.isprintable())   # checks if result can be printed\n",
    "print(str2.isspace())   #checks if string contains only spaces\n",
    "print(str2.istitle())   # returns True if all words in a text start with a upper case letter\n",
    "print(str2.isupper())     #returns true if the string contains only uppercase characters\n"
   ]
  },
  {
   "cell_type": "code",
   "execution_count": 315,
   "metadata": {},
   "outputs": [
    {
     "name": "stdout",
     "output_type": "stream",
     "text": [
      "P\n",
      "y\n",
      "t\n",
      "h\n",
      "o\n",
      "n\n",
      " \n",
      "i\n",
      "s\n",
      " \n",
      "e\n",
      "a\n",
      "s\n",
      "y\n"
     ]
    }
   ],
   "source": [
    "str2=\"Python is easy\"\n",
    "print(\"\\n\".join(str2))   # returns a string concatenated with the elements of an iterable."
   ]
  },
  {
   "cell_type": "code",
   "execution_count": 319,
   "metadata": {},
   "outputs": [
    {
     "name": "stdout",
     "output_type": "stream",
     "text": [
      "Python                         is easy\n"
     ]
    }
   ],
   "source": [
    "str2=\"Python\"\n",
    "\n",
    "str2=str2.ljust(30)   # adds extra 30 spaces from the left\n",
    "print(str2,\"is easy\")\n"
   ]
  },
  {
   "cell_type": "code",
   "execution_count": 334,
   "metadata": {},
   "outputs": [
    {
     "name": "stdout",
     "output_type": "stream",
     "text": [
      "python is easy\n",
      "Python is easy\n",
      "('Python ', 'is', ' easy')\n",
      "Python is a very easy\n",
      "7\n",
      "7\n",
      "           Python is easy\n",
      "('Python ', 'is', ' easy')\n",
      "['Python ', ' easy']\n"
     ]
    }
   ],
   "source": [
    "str2=\"Python is easy\"\n",
    "print(str2.lower())    # converts into lower case\n",
    "str2=\"            Python is easy\"\n",
    "print(str2.lstrip())    #trims let spaces\n",
    "str2=\"Python is easy\"\n",
    "print(str2.partition(\"is\"))    #converts string into tuple\n",
    "print(str2.replace(\"is\",\"is a very\"))  # replaces one substring with the given one\n",
    "print(str2.rfind(\"is\"))  #finds the string from right side\n",
    "print(str2.rindex(\"is\"))  #returns the index from right side\n",
    "print(str2.rjust(25))    #string right justified in a string of length width\n",
    "print(str2.rpartition(\"is\"))     #splits the string at the last occurrence of the argument string and returns a tuple containing the part the before separator\n",
    "print(str2.rsplit(\"is\"))     # seperates the string from right and returns a list\n"
   ]
  },
  {
   "cell_type": "code",
   "execution_count": 336,
   "metadata": {},
   "outputs": [
    {
     "name": "stdout",
     "output_type": "stream",
     "text": [
      "Python is easy\n"
     ]
    }
   ],
   "source": [
    "str2=\"Python is easy                   \"\n",
    "print(str2.rstrip())   #trim right spaces\n"
   ]
  },
  {
   "cell_type": "code",
   "execution_count": 340,
   "metadata": {},
   "outputs": [
    {
     "name": "stdout",
     "output_type": "stream",
     "text": [
      "['Python', 'is', 'easy']\n",
      "['Python', ' is easy']\n",
      "False\n"
     ]
    }
   ],
   "source": [
    "str2=\"Python is easy\"\n",
    "print(str2.split())    # returns a list of strings after breaking the given string by the specified separator\n",
    "str2=\"Python\\n is easy\"\n",
    "print(str2.splitlines())   #splits the string at line breaks and returns a list of lines in the string\n",
    "str2=\"Python is easy\"\n",
    "print(str2.startswith('s'))   #checks if string starts with given argument\n"
   ]
  },
  {
   "cell_type": "code",
   "execution_count": 341,
   "metadata": {},
   "outputs": [
    {
     "name": "stdout",
     "output_type": "stream",
     "text": [
      "Python         is easy\n"
     ]
    }
   ],
   "source": [
    "str2=\"      Python is easy         \"\n",
    "print(str2.strip())   #trims left and right spaces \n"
   ]
  },
  {
   "cell_type": "code",
   "execution_count": 349,
   "metadata": {},
   "outputs": [
    {
     "name": "stdout",
     "output_type": "stream",
     "text": [
      "pYTHON IS EASY\n",
      "Python Is Easy\n",
      "PYTHON IS EASY\n",
      "000000Python is easy\n"
     ]
    }
   ],
   "source": [
    "str2=\"Python is easy\"\n",
    "print(str2.swapcase())     #converts all uppercase characters to lowercase and vice versa \n",
    "print(str2.title())        # convert the first character in each word to Uppercase and remaining characters to Lowercase in string \n",
    "print(str2.upper())        #converts into uppercase\n",
    "print(str2.zfill(20))         #adds zeros (0) at the beginning of the string, until it reaches the specified length."
   ]
  },
  {
   "cell_type": "code",
   "execution_count": null,
   "metadata": {},
   "outputs": [],
   "source": []
  },
  {
   "cell_type": "code",
   "execution_count": null,
   "metadata": {},
   "outputs": [],
   "source": []
  }
 ],
 "metadata": {
  "kernelspec": {
   "display_name": "Python 3",
   "language": "python",
   "name": "python3"
  },
  "language_info": {
   "codemirror_mode": {
    "name": "ipython",
    "version": 3
   },
   "file_extension": ".py",
   "mimetype": "text/x-python",
   "name": "python",
   "nbconvert_exporter": "python",
   "pygments_lexer": "ipython3",
   "version": "3.7.4"
  }
 },
 "nbformat": 4,
 "nbformat_minor": 2
}
